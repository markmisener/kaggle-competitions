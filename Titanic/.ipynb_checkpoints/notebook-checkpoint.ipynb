{
 "cells": [
  {
   "cell_type": "code",
   "execution_count": 138,
   "metadata": {
    "_cell_guid": "8668ddbb-a805-4826-abc9-d5433dcd0a55",
    "_uuid": "0a80a08226baa52d0b04c40b674324cd5b1e881b",
    "collapsed": true
   },
   "outputs": [],
   "source": [
    "import numpy as np\n",
    "import pandas as pd\n",
    "from sklearn import svm"
   ]
  },
  {
   "cell_type": "code",
   "execution_count": 139,
   "metadata": {
    "_uuid": "525cf59df0be6cba5950486d76aa69ede55fe9a1",
    "collapsed": false
   },
   "outputs": [],
   "source": [
    "train_df = pd.read_csv('input/train.csv')\n",
    "test_df = pd.read_csv('input/test.csv')"
   ]
  },
  {
   "cell_type": "code",
   "execution_count": 198,
   "metadata": {
    "collapsed": false
   },
   "outputs": [],
   "source": [
    "def show_correlation_to_survival(target_column):\n",
    "    print(train_df[[target_column, 'Survived']].groupby([target_column], as_index=False).mean().sort_values(by='Survived', ascending=False))\n",
    "    print('\\n')"
   ]
  },
  {
   "cell_type": "code",
   "execution_count": 199,
   "metadata": {
    "collapsed": false
   },
   "outputs": [],
   "source": [
    "column_list = train_df.columns.tolist()\n",
    "column_list.remove('Survived')"
   ]
  },
  {
   "cell_type": "code",
   "execution_count": 200,
   "metadata": {
    "collapsed": false
   },
   "outputs": [
    {
     "name": "stdout",
     "output_type": "stream",
     "text": [
      "   Pclass  Survived\n",
      "0       1  0.629630\n",
      "1       2  0.472826\n",
      "2       3  0.242363\n",
      "\n",
      "\n",
      "                                                  Name  Survived\n",
      "559                             Moss, Mr. Albert Johan         1\n",
      "472                       Lemore, Mrs. (Amelia Milley)         1\n",
      "259                         Fortune, Miss. Mabel Helen         1\n",
      "258                     Fortune, Miss. Alice Elizabeth         1\n",
      "742                      Silven, Miss. Lyyli Karoliina         1\n",
      "743                   Silverthorne, Mr. Spencer Victor         1\n",
      "745          Silvey, Mrs. William Baird (Alice Munger)         1\n",
      "461                                LeRoy, Miss. Bertha         1\n",
      "252                                    Foo, Mr. Choong         1\n",
      "251                   Flynn, Mr. John Irwin (\"Irving\")         1\n",
      "747                Simonius-Blumer, Col. Oberst Alfons         1\n",
      "748                              Sinkkonen, Miss. Anna         1\n",
      "248                            Fleming, Miss. Margaret         1\n",
      "462                        Leader, Dr. Alice (Farnham)         1\n",
      "246  Faunthorpe, Mrs. Lizzie (Elizabeth Anne Wilkin...         1\n",
      "463                  Leeni, Mr. Fahim (\"Philip Zenni\")         1\n",
      "242                     Eustis, Miss. Elizabeth Mussey         1\n",
      "241                      Endres, Miss. Caroline Louise         1\n",
      "753                          Sjoblom, Miss. Anna Sofia         1\n",
      "239                      Emanuel, Miss. Virginia Ethel         1\n",
      "468                              Lehmann, Miss. Bertha         1\n",
      "741                          Shutes, Miss. Elizabeth W         1\n",
      "739       Shelley, Mrs. William (Imanita Parrish Hall)         1\n",
      "263                     Francatelli, Miss. Laura Mabel         1\n",
      "455                                     Lang, Mr. Fang         1\n",
      "723                               Sagesser, Mlle. Emma         1\n",
      "724                   Salkjelsvik, Miss. Anna Kristine         1\n",
      "727                    Sandstrom, Miss. Marguerite Rut         1\n",
      "728  Sandstrom, Mrs. Hjalmar (Agnes Charlotta Bengt...         1\n",
      "452                                       Lam, Mr. Ali         1\n",
      "..                                                 ...       ...\n",
      "405                         Johansson, Mr. Gustaf Joel         0\n",
      "406                          Johansson, Mr. Karl Johan         0\n",
      "409                                Johnson, Mr. Alfred         0\n",
      "410                       Johnson, Mr. Malkolm Joackim         0\n",
      "411                    Johnson, Mr. William Cahoone Jr         0\n",
      "413           Johnston, Miss. Catherine Helen \"Carrie\"         0\n",
      "414                             Johnston, Mr. Andrew G         0\n",
      "415                                 Jonkoff, Mr. Lalio         0\n",
      "417                            Jussila, Miss. Katriina         0\n",
      "390                       Jacobsohn, Mr. Sidney Samuel         0\n",
      "389                                 Ivanoff, Mr. Kanio         0\n",
      "388                         Isham, Miss. Ann Elizabeth         0\n",
      "370                                  Hold, Mr. Stephen         0\n",
      "355                             Hendekovic, Mr. Ignjac         0\n",
      "356                                 Henry, Miss. Delia         0\n",
      "360                          Hickman, Mr. Leonard Mark         0\n",
      "361                                 Hickman, Mr. Lewis         0\n",
      "362                        Hickman, Mr. Stanley George         0\n",
      "366                        Hocking, Mr. Richard George         0\n",
      "368                            Hodges, Mr. Henry Price         0\n",
      "371                   Holm, Mr. John Fredrik Alexander         0\n",
      "387                      Ilmakangas, Miss. Pieta Sofia         0\n",
      "372                     Holverson, Mr. Alexander Oskar         0\n",
      "376                               Hood, Mr. Ambrose Jr         0\n",
      "377                                   Horgan, Mr. John         0\n",
      "380                           Hoyt, Mr. William Fisher         0\n",
      "382           Humblen, Mr. Adolf Mathias Nicolai Olsen         0\n",
      "383                             Hunt, Mr. George Henry         0\n",
      "384                       Ibrahim Shawah, Mr. Yousseff         0\n",
      "890                        van Melkebeke, Mr. Philemon         0\n",
      "\n",
      "[891 rows x 2 columns]\n",
      "\n",
      "\n",
      "      Sex  Survived\n",
      "0  female  0.742038\n",
      "1    male  0.188908\n",
      "\n",
      "\n",
      "      Age  Survived\n",
      "88  80.00  1.000000\n",
      "80  63.00  1.000000\n",
      "17  12.00  1.000000\n",
      "1    0.42  1.000000\n",
      "10   5.00  1.000000\n",
      "69  53.00  1.000000\n",
      "18  13.00  1.000000\n",
      "5    0.92  1.000000\n",
      "4    0.83  1.000000\n",
      "3    0.75  1.000000\n",
      "2    0.67  1.000000\n",
      "8    3.00  0.833333\n",
      "21  15.00  0.800000\n",
      "6    1.00  0.714286\n",
      "9    4.00  0.700000\n",
      "11   6.00  0.666667\n",
      "64  48.00  0.666667\n",
      "65  49.00  0.666667\n",
      "48  35.00  0.611111\n",
      "36  27.00  0.611111\n",
      "75  58.00  0.600000\n",
      "68  52.00  0.500000\n",
      "71  55.00  0.500000\n",
      "66  50.00  0.500000\n",
      "32  24.00  0.500000\n",
      "49  36.00  0.500000\n",
      "77  60.00  0.500000\n",
      "79  62.00  0.500000\n",
      "43  32.00  0.500000\n",
      "73  56.00  0.500000\n",
      "..    ...       ...\n",
      "14   9.00  0.250000\n",
      "16  11.00  0.250000\n",
      "28  21.00  0.208333\n",
      "26  20.00  0.200000\n",
      "58  43.00  0.200000\n",
      "51  37.00  0.166667\n",
      "63  47.00  0.111111\n",
      "85  70.50  0.000000\n",
      "84  70.00  0.000000\n",
      "83  66.00  0.000000\n",
      "86  71.00  0.000000\n",
      "82  65.00  0.000000\n",
      "81  64.00  0.000000\n",
      "33  24.50  0.000000\n",
      "87  74.00  0.000000\n",
      "78  61.00  0.000000\n",
      "55  40.50  0.000000\n",
      "72  55.50  0.000000\n",
      "76  59.00  0.000000\n",
      "74  57.00  0.000000\n",
      "15  10.00  0.000000\n",
      "38  28.50  0.000000\n",
      "41  30.50  0.000000\n",
      "20  14.50  0.000000\n",
      "27  20.50  0.000000\n",
      "47  34.50  0.000000\n",
      "62  46.00  0.000000\n",
      "61  45.50  0.000000\n",
      "50  36.50  0.000000\n",
      "31  23.50  0.000000\n",
      "\n",
      "[89 rows x 2 columns]\n",
      "\n",
      "\n",
      "   SibSp  Survived\n",
      "1      1  0.535885\n",
      "2      2  0.464286\n",
      "0      0  0.345395\n",
      "3      3  0.250000\n",
      "4      4  0.166667\n",
      "5      5  0.000000\n",
      "6      8  0.000000\n",
      "\n",
      "\n",
      "   Parch  Survived\n",
      "3      3  0.600000\n",
      "1      1  0.550847\n",
      "2      2  0.500000\n",
      "0      0  0.343658\n",
      "5      5  0.200000\n",
      "4      4  0.000000\n",
      "6      6  0.000000\n",
      "\n",
      "\n",
      "     Ticket  Survived\n",
      "0    110152       1.0\n",
      "180   26360       1.0\n",
      "483  386525       1.0\n",
      "479  382651       1.0\n",
      "151  244373       1.0\n",
      "152  248698       1.0\n",
      "153  248706       1.0\n",
      "465  370375       1.0\n",
      "157  248733       1.0\n",
      "158  248738       1.0\n",
      "464  370373       1.0\n",
      "461  370370       1.0\n",
      "162  250644       1.0\n",
      "454   36947       1.0\n",
      "165  250648       1.0\n",
      "166  250649       1.0\n",
      "453   36928       1.0\n",
      "168  250652       1.0\n",
      "451   36866       1.0\n",
      "445  367231       1.0\n",
      "171    2620       1.0\n",
      "444  367230       1.0\n",
      "442  367228       1.0\n",
      "174    2625       1.0\n",
      "175    2626       1.0\n",
      "441  367226       1.0\n",
      "432  364516       1.0\n",
      "484  392091       1.0\n",
      "486  392096       1.0\n",
      "489    4134       1.0\n",
      "..      ...       ...\n",
      "356  349209       0.0\n",
      "355  349208       0.0\n",
      "378  349239       0.0\n",
      "380  349241       0.0\n",
      "190    2662       0.0\n",
      "381  349242       0.0\n",
      "404  350042       0.0\n",
      "403  350036       0.0\n",
      "402  350035       0.0\n",
      "192    2664       0.0\n",
      "400  350029       0.0\n",
      "399  350026       0.0\n",
      "398  350025       0.0\n",
      "397  349912       0.0\n",
      "396  349910       0.0\n",
      "395  349909       0.0\n",
      "394  349257       0.0\n",
      "193    2665       0.0\n",
      "392  349254       0.0\n",
      "391  349253       0.0\n",
      "390  349252       0.0\n",
      "389  349251       0.0\n",
      "388  349249       0.0\n",
      "387  349248       0.0\n",
      "386  349247       0.0\n",
      "385  349246       0.0\n",
      "384  349245       0.0\n",
      "197    2669       0.0\n",
      "382  349243       0.0\n",
      "340  347464       0.0\n",
      "\n",
      "[681 rows x 2 columns]\n",
      "\n",
      "\n",
      "         Fare  Survived\n",
      "247  512.3292       1.0\n",
      "196   57.9792       1.0\n",
      "89    13.8583       1.0\n",
      "88    13.7917       1.0\n",
      "86    13.4167       1.0\n",
      "83    12.6500       1.0\n",
      "81    12.4750       1.0\n",
      "79    12.2875       1.0\n",
      "194   56.9292       1.0\n",
      "77    12.0000       1.0\n",
      "195   57.0000       1.0\n",
      "74    11.1333       1.0\n",
      "197   59.4000       1.0\n",
      "52     8.5167       1.0\n",
      "201   63.3583       1.0\n",
      "202   65.0000       1.0\n",
      "68     9.8417       1.0\n",
      "204   69.3000       1.0\n",
      "207   71.2833       1.0\n",
      "209   75.2500       1.0\n",
      "210   76.2917       1.0\n",
      "211   76.7292       1.0\n",
      "213   77.9583       1.0\n",
      "214   78.2667       1.0\n",
      "90    13.8625       1.0\n",
      "191   55.4417       1.0\n",
      "190   55.0000       1.0\n",
      "188   52.5542       1.0\n",
      "142   26.3875       1.0\n",
      "141   26.2875       1.0\n",
      "..        ...       ...\n",
      "158   31.2750       0.0\n",
      "136   25.9250       0.0\n",
      "156   30.6958       0.0\n",
      "147   27.9000       0.0\n",
      "148   28.5000       0.0\n",
      "113   18.0000       0.0\n",
      "176   40.1250       0.0\n",
      "198   61.1750       0.0\n",
      "95    14.4583       0.0\n",
      "71    10.4625       0.0\n",
      "73    10.5167       0.0\n",
      "76    11.5000       0.0\n",
      "78    12.2750       0.0\n",
      "82    12.5250       0.0\n",
      "84    12.8750       0.0\n",
      "91    14.0000       0.0\n",
      "92    14.1083       0.0\n",
      "93    14.4000       0.0\n",
      "97    15.0000       0.0\n",
      "112   17.8000       0.0\n",
      "98    15.0458       0.0\n",
      "99    15.0500       0.0\n",
      "184   50.4958       0.0\n",
      "183   50.0000       0.0\n",
      "100   15.1000       0.0\n",
      "103   15.5500       0.0\n",
      "180   47.1000       0.0\n",
      "179   46.9000       0.0\n",
      "178   42.4000       0.0\n",
      "124   21.0750       0.0\n",
      "\n",
      "[248 rows x 2 columns]\n",
      "\n",
      "\n",
      "  Cabin  Survived\n",
      "3     D  0.757576\n",
      "4     E  0.750000\n",
      "1     B  0.744681\n",
      "5     F  0.615385\n",
      "2     C  0.593220\n",
      "6     G  0.500000\n",
      "0     A  0.466667\n",
      "7     T  0.000000\n",
      "\n",
      "\n",
      "  Embarked  Survived\n",
      "0        0  1.000000\n",
      "1        C  0.553571\n",
      "2        Q  0.389610\n",
      "3        S  0.336957\n",
      "\n",
      "\n"
     ]
    }
   ],
   "source": [
    "for column in column_list:\n",
    "    show_correlation_to_survival(column)"
   ]
  },
  {
   "cell_type": "code",
   "execution_count": 140,
   "metadata": {
    "_uuid": "757fd278ddfca1c664ab2ca2a078fe13dc8087be",
    "collapsed": false
   },
   "outputs": [],
   "source": [
    "train_df.set_index(['PassengerId'],inplace=True)\n",
    "test_df.set_index(['PassengerId'],inplace=True)"
   ]
  },
  {
   "cell_type": "code",
   "execution_count": 141,
   "metadata": {
    "collapsed": true
   },
   "outputs": [],
   "source": [
    "def preprocess_df(data):\n",
    "    data['Age'] = data['Age'].fillna(0)\n",
    "    data['Fare'] = data['Fare'].fillna(1000)\n",
    "    data['Embarked'] = data['Embarked'].fillna(0)\n",
    "    data['Cabin'] = data['Cabin'].fillna(0).str[0]\n",
    "    return data"
   ]
  },
  {
   "cell_type": "code",
   "execution_count": 142,
   "metadata": {
    "collapsed": true
   },
   "outputs": [],
   "source": [
    "columns_to_use = ['Pclass', 'Sex','Age','SibSp','Parch','Fare','Embarked', 'Cabin']"
   ]
  },
  {
   "cell_type": "code",
   "execution_count": 143,
   "metadata": {
    "collapsed": false
   },
   "outputs": [],
   "source": [
    "# preprocess training and testing data sets\n",
    "train_df = preprocess_df(train_df)\n",
    "test_df = preprocess_df(test_df)"
   ]
  },
  {
   "cell_type": "code",
   "execution_count": 144,
   "metadata": {
    "collapsed": true
   },
   "outputs": [],
   "source": [
    "# set training features and labels\n",
    "X_train = pd.get_dummies(train_df[columns_to_use])\n",
    "y_train = train_df['Survived']"
   ]
  },
  {
   "cell_type": "code",
   "execution_count": 145,
   "metadata": {
    "collapsed": false
   },
   "outputs": [],
   "source": [
    "# set testing features\n",
    "X_test = pd.get_dummies(test_df[columns_to_use])"
   ]
  },
  {
   "cell_type": "code",
   "execution_count": 146,
   "metadata": {
    "collapsed": false
   },
   "outputs": [],
   "source": [
    "missing_from_test = list(set(X_train.columns) - set(X_test.columns))"
   ]
  },
  {
   "cell_type": "code",
   "execution_count": 147,
   "metadata": {
    "collapsed": false
   },
   "outputs": [],
   "source": [
    "for x in missing_from_test:\n",
    "    X_test[x] = 0"
   ]
  },
  {
   "cell_type": "code",
   "execution_count": 169,
   "metadata": {
    "_uuid": "5d8eb08cdcb0e43cfed6c8599ad3f96545dc0a4a",
    "collapsed": false
   },
   "outputs": [],
   "source": [
    "clf = svm.SVC()\n",
    "clf.fit(X_train,y_train)\n",
    "prediction = clf.predict(X_test)"
   ]
  },
  {
   "cell_type": "code",
   "execution_count": 174,
   "metadata": {
    "collapsed": false
   },
   "outputs": [],
   "source": [
    "predictions = pd.DataFrame(data=prediction, index=test_df.index.values, columns=['Survived'])\n",
    "predictions = dfPrediction.reset_index(level=0)\n",
    "predictions.drop('index', axis=1, inplace=True)"
   ]
  },
  {
   "cell_type": "code",
   "execution_count": 175,
   "metadata": {
    "collapsed": false
   },
   "outputs": [],
   "source": [
    "predictions.columns = ['PassengerId', 'Survived']"
   ]
  },
  {
   "cell_type": "code",
   "execution_count": 176,
   "metadata": {
    "collapsed": true
   },
   "outputs": [],
   "source": [
    "# write to csv\n",
    "predictions.to_csv('predictions.csv', index=False)"
   ]
  }
 ],
 "metadata": {
  "kernelspec": {
   "display_name": "Python 3",
   "language": "python",
   "name": "python3"
  },
  "language_info": {
   "codemirror_mode": {
    "name": "ipython",
    "version": 3
   },
   "file_extension": ".py",
   "mimetype": "text/x-python",
   "name": "python",
   "nbconvert_exporter": "python",
   "pygments_lexer": "ipython3",
   "version": "3.6.0"
  }
 },
 "nbformat": 4,
 "nbformat_minor": 1
}
