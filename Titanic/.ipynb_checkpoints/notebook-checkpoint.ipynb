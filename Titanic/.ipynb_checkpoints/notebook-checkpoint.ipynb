{
 "cells": [
  {
   "cell_type": "code",
   "execution_count": 10,
   "metadata": {
    "_cell_guid": "8668ddbb-a805-4826-abc9-d5433dcd0a55",
    "_uuid": "0a80a08226baa52d0b04c40b674324cd5b1e881b",
    "collapsed": true
   },
   "outputs": [],
   "source": [
    "import numpy as np\n",
    "import pandas as pd\n",
    "from sklearn import svm"
   ]
  },
  {
   "cell_type": "code",
   "execution_count": 11,
   "metadata": {
    "_uuid": "525cf59df0be6cba5950486d76aa69ede55fe9a1",
    "collapsed": false
   },
   "outputs": [],
   "source": [
    "train_df = pd.read_csv('input/train.csv')\n",
    "test_df = pd.read_csv('input/test.csv')"
   ]
  },
  {
   "cell_type": "code",
   "execution_count": 12,
   "metadata": {
    "_uuid": "757fd278ddfca1c664ab2ca2a078fe13dc8087be",
    "collapsed": false
   },
   "outputs": [],
   "source": [
    "train_df.set_index(['PassengerId'],inplace=True)\n",
    "test_df.set_index(['PassengerId'],inplace=True)"
   ]
  },
  {
   "cell_type": "code",
   "execution_count": 13,
   "metadata": {
    "_uuid": "71635703665aef70583552fd496a06d99409b300",
    "collapsed": true
   },
   "outputs": [],
   "source": [
    "train_df['Sex'] = train_df['Sex'].map({'male': 0, 'female': 1})\n",
    "train_df['Age'] = train_df['Age'].fillna(0)\n",
    "train_df['Fare'] = train_df['Fare'].fillna(1000)\n",
    "train_df['Embarked'] = train_df['Embarked'].map({'C': 1, 'Q': 2, 'S': 3})\n",
    "train_df['Embarked'] = train_df['Embarked'].fillna(0)\n",
    "\n",
    "test_df['Sex'] = test_df['Sex'].map({'male': 0, 'female': 1})\n",
    "test_df['Age'] = test_df['Age'].fillna(0)\n",
    "test_df['Fare'] = test_df['Fare'].fillna(1000)\n",
    "test_df['Embarked'] = test_df['Embarked'].map({'C': 1, 'Q': 2, 'S': 3})\n",
    "test_df['Embarked'] = test_df['Embarked'].fillna(0)"
   ]
  },
  {
   "cell_type": "code",
   "execution_count": 14,
   "metadata": {
    "_uuid": "e3d4f81b8d28b66e299abe037805dc70ea5843a4",
    "collapsed": true
   },
   "outputs": [],
   "source": [
    "columns_to_use = ['Pclass', 'Sex','Age','SibSp','Parch','Fare','Embarked']"
   ]
  },
  {
   "cell_type": "code",
   "execution_count": 15,
   "metadata": {
    "_uuid": "5d8eb08cdcb0e43cfed6c8599ad3f96545dc0a4a",
    "collapsed": true
   },
   "outputs": [],
   "source": [
    "clf = svm.SVC()\n",
    "X_train = train_df[columns_to_use]\n",
    "y_train = train_df['Survived']\n",
    "X_test = test_df[columns_to_use]\n",
    "clf.fit(X_train,y_train)\n",
    "prediction = clf.predict(X_test)"
   ]
  },
  {
   "cell_type": "code",
   "execution_count": 16,
   "metadata": {
    "collapsed": true
   },
   "outputs": [],
   "source": [
    "dfPrediction = pd.DataFrame(data=prediction,index = test_df.index.values,columns=['Survived'])\n",
    "dfPrediction = dfPrediction.reset_index(level=0)\n",
    "dfPrediction.columns = ['PassengerId', 'Survived']\n",
    "predictions = dfPrediction.to_csv('predictions.csv', index=False)"
   ]
  }
 ],
 "metadata": {
  "kernelspec": {
   "display_name": "Python 3",
   "language": "python",
   "name": "python3"
  },
  "language_info": {
   "codemirror_mode": {
    "name": "ipython",
    "version": 3
   },
   "file_extension": ".py",
   "mimetype": "text/x-python",
   "name": "python",
   "nbconvert_exporter": "python",
   "pygments_lexer": "ipython3",
   "version": "3.6.0"
  }
 },
 "nbformat": 4,
 "nbformat_minor": 1
}
