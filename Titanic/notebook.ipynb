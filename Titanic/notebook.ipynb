{
  "cells": [
    {
      "metadata": {
        "_cell_guid": "8668ddbb-a805-4826-abc9-d5433dcd0a55",
        "_uuid": "0a80a08226baa52d0b04c40b674324cd5b1e881b",
        "collapsed": true,
        "trusted": true
      },
      "cell_type": "code",
      "source": "import numpy as np\nimport pandas as pd\nfrom sklearn import svm",
      "execution_count": 10,
      "outputs": []
    },
    {
      "metadata": {
        "collapsed": true,
        "trusted": true,
        "_uuid": "525cf59df0be6cba5950486d76aa69ede55fe9a1"
      },
      "cell_type": "code",
      "source": "train_df = pd.read_csv('../input/train.csv')\ntest_df = pd.read_csv('../input/test.csv')",
      "execution_count": 11,
      "outputs": []
    },
    {
      "metadata": {
        "collapsed": true,
        "trusted": true,
        "_uuid": "757fd278ddfca1c664ab2ca2a078fe13dc8087be"
      },
      "cell_type": "code",
      "source": "train_df.set_index(['PassengerId'],inplace=True)\ntest_df.set_index(['PassengerId'],inplace=True)",
      "execution_count": 12,
      "outputs": []
    },
    {
      "metadata": {
        "trusted": true,
        "_uuid": "71635703665aef70583552fd496a06d99409b300"
      },
      "cell_type": "code",
      "source": "train_df['Sex'] = train_df['Sex'].map({'male': 0, 'female': 1})\ntrain_df['Age'] = train_df['Age'].fillna(0)\ntrain_df['Fare'] = train_df['Fare'].fillna(1000)\ntrain_df['Embarked'] = train_df['Embarked'].map({'C': 1, 'Q': 2, 'S': 3})\ntrain_df['Embarked'] = train_df['Embarked'].fillna(0)\n\ntest_df['Sex'] = test_df['Sex'].map({'male': 0, 'female': 1})\ntest_df['Age'] = test_df['Age'].fillna(0)\ntest_df['Fare'] = test_df['Fare'].fillna(1000)\ntest_df['Embarked'] = test_df['Embarked'].map({'C': 1, 'Q': 2, 'S': 3})\ntest_df['Embarked'] = test_df['Embarked'].fillna(0)",
      "execution_count": 13,
      "outputs": []
    },
    {
      "metadata": {
        "collapsed": true,
        "trusted": true,
        "_uuid": "e3d4f81b8d28b66e299abe037805dc70ea5843a4"
      },
      "cell_type": "code",
      "source": "columns_to_use = ['Pclass', 'Sex','Age','SibSp','Parch','Fare','Embarked']",
      "execution_count": null,
      "outputs": []
    },
    {
      "metadata": {
        "trusted": true,
        "collapsed": true,
        "_uuid": "5d8eb08cdcb0e43cfed6c8599ad3f96545dc0a4a"
      },
      "cell_type": "code",
      "source": "clf = svm.SVC()\nX_train = train_df[columns_to_use]\ny_train = train_df['Survived']\nX_test = test_df[columns_to_use]\nclf.fit(X_train,y_train)\nprediction = clf.predict(X_test)\ndfPrediction = pd.DataFrame(data=prediction,index = test_df.index.values,columns=['Survived'])\npredictions = dfPrediction.to_csv()",
      "execution_count": null,
      "outputs": []
    },
    {
      "metadata": {
        "collapsed": true,
        "trusted": true,
        "_uuid": "443915e2d5bc336f29f08838a93a84b7980d3120"
      },
      "cell_type": "code",
      "source": "print(predictions)",
      "execution_count": null,
      "outputs": [
        {
          "output_type": "stream",
          "text": ",Survived\n892,0\n893,0\n894,1\n895,0\n896,0\n897,0\n898,0\n899,1\n900,0\n901,1\n902,0\n903,0\n904,1\n905,0\n906,0\n907,1\n908,0\n909,0\n910,0\n911,0\n912,1\n913,1\n914,1\n915,1\n916,1\n917,0\n918,1\n919,0\n920,1\n921,1\n922,1\n923,1\n924,0\n925,0\n926,1\n927,0\n928,1\n929,0\n930,0\n931,1\n932,0\n933,0\n934,0\n935,1\n936,1\n937,0\n938,0\n939,0\n940,1\n941,0\n942,1\n943,0\n944,1\n945,1\n946,0\n947,0\n948,0\n949,0\n950,0\n951,1\n952,0\n953,0\n954,0\n955,0\n956,1\n957,0\n958,1\n959,1\n960,0\n961,0\n962,0\n963,0\n964,0\n965,0\n966,1\n967,1\n968,0\n969,0\n970,0\n971,0\n972,1\n973,1\n974,1\n975,0\n976,1\n977,0\n978,0\n979,0\n980,1\n981,1\n982,0\n983,0\n984,1\n985,0\n986,1\n987,0\n988,1\n989,0\n990,0\n991,0\n992,1\n993,1\n994,0\n995,0\n996,1\n997,0\n998,0\n999,0\n1000,0\n1001,0\n1002,0\n1003,1\n1004,0\n1005,0\n1006,1\n1007,0\n1008,0\n1009,1\n1010,1\n1011,1\n1012,1\n1013,0\n1014,1\n1015,0\n1016,0\n1017,0\n1018,0\n1019,1\n1020,1\n1021,0\n1022,0\n1023,0\n1024,0\n1025,0\n1026,0\n1027,0\n1028,0\n1029,0\n1030,0\n1031,0\n1032,0\n1033,1\n1034,0\n1035,1\n1036,0\n1037,0\n1038,1\n1039,0\n1040,0\n1041,1\n1042,1\n1043,0\n1044,1\n1045,0\n1046,0\n1047,0\n1048,1\n1049,0\n1050,0\n1051,1\n1052,1\n1053,1\n1054,0\n1055,0\n1056,1\n1057,0\n1058,1\n1059,0\n1060,0\n1061,0\n1062,0\n1063,0\n1064,0\n1065,0\n1066,0\n1067,1\n1068,0\n1069,1\n1070,0\n1071,1\n1072,0\n1073,1\n1074,0\n1075,0\n1076,0\n1077,1\n1078,1\n1079,0\n1080,0\n1081,0\n1082,1\n1083,0\n1084,1\n1085,1\n1086,1\n1087,0\n1088,1\n1089,0\n1090,0\n1091,1\n1092,0\n1093,1\n1094,1\n1095,1\n1096,0\n1097,0\n1098,0\n1099,0\n1100,1\n1101,0\n1102,0\n1103,0\n1104,0\n1105,0\n1106,0\n1107,1\n1108,1\n1109,1\n1110,1\n1111,0\n1112,1\n1113,0\n1114,0\n1115,0\n1116,0\n1117,1\n1118,0\n1119,1\n1120,0\n1121,0\n1122,1\n1123,1\n1124,0\n1125,0\n1126,1\n1127,0\n1128,1\n1129,0\n1130,0\n1131,0\n1132,0\n1133,0\n1134,1\n1135,0\n1136,0\n1137,1\n1138,0\n1139,1\n1140,1\n1141,0\n1142,1\n1143,0\n1144,1\n1145,0\n1146,0\n1147,0\n1148,0\n1149,0\n1150,0\n1151,0\n1152,1\n1153,0\n1154,0\n1155,1\n1156,1\n1157,0\n1158,0\n1159,0\n1160,1\n1161,0\n1162,1\n1163,0\n1164,0\n1165,1\n1166,0\n1167,1\n1168,0\n1169,0\n1170,0\n1171,0\n1172,0\n1173,1\n1174,1\n1175,0\n1176,1\n1177,0\n1178,0\n1179,1\n1180,0\n1181,0\n1182,0\n1183,0\n1184,0\n1185,0\n1186,0\n1187,0\n1188,1\n1189,1\n1190,0\n1191,0\n1192,0\n1193,0\n1194,1\n1195,0\n1196,1\n1197,0\n1198,0\n1199,0\n1200,1\n1201,0\n1202,0\n1203,0\n1204,0\n1205,0\n1206,1\n1207,1\n1208,1\n1209,0\n1210,0\n1211,1\n1212,0\n1213,0\n1214,0\n1215,1\n1216,1\n1217,0\n1218,0\n1219,0\n1220,1\n1221,0\n1222,0\n1223,0\n1224,0\n1225,0\n1226,0\n1227,1\n1228,0\n1229,0\n1230,1\n1231,0\n1232,0\n1233,0\n1234,1\n1235,1\n1236,1\n1237,1\n1238,0\n1239,0\n1240,0\n1241,0\n1242,0\n1243,0\n1244,0\n1245,1\n1246,1\n1247,1\n1248,1\n1249,0\n1250,0\n1251,0\n1252,1\n1253,0\n1254,0\n1255,0\n1256,1\n1257,1\n1258,0\n1259,1\n1260,1\n1261,0\n1262,0\n1263,1\n1264,0\n1265,1\n1266,1\n1267,1\n1268,0\n1269,0\n1270,0\n1271,0\n1272,0\n1273,0\n1274,0\n1275,0\n1276,1\n1277,1\n1278,0\n1279,0\n1280,0\n1281,0\n1282,1\n1283,1\n1284,1\n1285,0\n1286,0\n1287,1\n1288,0\n1289,1\n1290,0\n1291,0\n1292,1\n1293,1\n1294,1\n1295,1\n1296,0\n1297,0\n1298,0\n1299,1\n1300,1\n1301,1\n1302,1\n1303,1\n1304,0\n1305,0\n1306,1\n1307,0\n1308,0\n1309,1\n\n",
          "name": "stdout"
        }
      ]
    }
  ],
  "metadata": {
    "kernelspec": {
      "display_name": "Python 3",
      "language": "python",
      "name": "python3"
    },
    "language_info": {
      "name": "python",
      "version": "3.6.1",
      "mimetype": "text/x-python",
      "codemirror_mode": {
        "name": "ipython",
        "version": 3
      },
      "pygments_lexer": "ipython3",
      "nbconvert_exporter": "python",
      "file_extension": ".py"
    }
  },
  "nbformat": 4,
  "nbformat_minor": 1
}